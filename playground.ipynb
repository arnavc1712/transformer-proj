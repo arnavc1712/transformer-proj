{
 "cells": [
  {
   "cell_type": "code",
   "execution_count": 1,
   "metadata": {},
   "outputs": [],
   "source": [
    "import torch\n",
    "import torch.nn as nn\n",
    "from dataclasses import dataclass\n",
    "import os\n",
    "import torch.nn.functional as F\n",
    "import numpy as np"
   ]
  },
  {
   "cell_type": "markdown",
   "metadata": {},
   "source": [
    "# Lets load in the GPT2 model as released by OpenAI"
   ]
  },
  {
   "cell_type": "code",
   "execution_count": 2,
   "metadata": {},
   "outputs": [],
   "source": [
    "from transformers import GPT2LMHeadModel"
   ]
  },
  {
   "cell_type": "code",
   "execution_count": 3,
   "metadata": {},
   "outputs": [
    {
     "name": "stdout",
     "output_type": "stream",
     "text": [
      "transformer.wte.weight torch.Size([50257, 768])\n",
      "transformer.wpe.weight torch.Size([1024, 768])\n",
      "transformer.h.0.ln_1.weight torch.Size([768])\n",
      "transformer.h.0.ln_1.bias torch.Size([768])\n",
      "transformer.h.0.attn.c_attn.weight torch.Size([768, 2304])\n",
      "transformer.h.0.attn.c_attn.bias torch.Size([2304])\n",
      "transformer.h.0.attn.c_proj.weight torch.Size([768, 768])\n",
      "transformer.h.0.attn.c_proj.bias torch.Size([768])\n",
      "transformer.h.0.ln_2.weight torch.Size([768])\n",
      "transformer.h.0.ln_2.bias torch.Size([768])\n",
      "transformer.h.0.mlp.c_fc.weight torch.Size([768, 3072])\n",
      "transformer.h.0.mlp.c_fc.bias torch.Size([3072])\n",
      "transformer.h.0.mlp.c_proj.weight torch.Size([3072, 768])\n",
      "transformer.h.0.mlp.c_proj.bias torch.Size([768])\n",
      "transformer.h.1.ln_1.weight torch.Size([768])\n",
      "transformer.h.1.ln_1.bias torch.Size([768])\n",
      "transformer.h.1.attn.c_attn.weight torch.Size([768, 2304])\n",
      "transformer.h.1.attn.c_attn.bias torch.Size([2304])\n",
      "transformer.h.1.attn.c_proj.weight torch.Size([768, 768])\n",
      "transformer.h.1.attn.c_proj.bias torch.Size([768])\n",
      "transformer.h.1.ln_2.weight torch.Size([768])\n",
      "transformer.h.1.ln_2.bias torch.Size([768])\n",
      "transformer.h.1.mlp.c_fc.weight torch.Size([768, 3072])\n",
      "transformer.h.1.mlp.c_fc.bias torch.Size([3072])\n",
      "transformer.h.1.mlp.c_proj.weight torch.Size([3072, 768])\n",
      "transformer.h.1.mlp.c_proj.bias torch.Size([768])\n",
      "transformer.h.2.ln_1.weight torch.Size([768])\n",
      "transformer.h.2.ln_1.bias torch.Size([768])\n",
      "transformer.h.2.attn.c_attn.weight torch.Size([768, 2304])\n",
      "transformer.h.2.attn.c_attn.bias torch.Size([2304])\n",
      "transformer.h.2.attn.c_proj.weight torch.Size([768, 768])\n",
      "transformer.h.2.attn.c_proj.bias torch.Size([768])\n",
      "transformer.h.2.ln_2.weight torch.Size([768])\n",
      "transformer.h.2.ln_2.bias torch.Size([768])\n",
      "transformer.h.2.mlp.c_fc.weight torch.Size([768, 3072])\n",
      "transformer.h.2.mlp.c_fc.bias torch.Size([3072])\n",
      "transformer.h.2.mlp.c_proj.weight torch.Size([3072, 768])\n",
      "transformer.h.2.mlp.c_proj.bias torch.Size([768])\n",
      "transformer.h.3.ln_1.weight torch.Size([768])\n",
      "transformer.h.3.ln_1.bias torch.Size([768])\n",
      "transformer.h.3.attn.c_attn.weight torch.Size([768, 2304])\n",
      "transformer.h.3.attn.c_attn.bias torch.Size([2304])\n",
      "transformer.h.3.attn.c_proj.weight torch.Size([768, 768])\n",
      "transformer.h.3.attn.c_proj.bias torch.Size([768])\n",
      "transformer.h.3.ln_2.weight torch.Size([768])\n",
      "transformer.h.3.ln_2.bias torch.Size([768])\n",
      "transformer.h.3.mlp.c_fc.weight torch.Size([768, 3072])\n",
      "transformer.h.3.mlp.c_fc.bias torch.Size([3072])\n",
      "transformer.h.3.mlp.c_proj.weight torch.Size([3072, 768])\n",
      "transformer.h.3.mlp.c_proj.bias torch.Size([768])\n",
      "transformer.h.4.ln_1.weight torch.Size([768])\n",
      "transformer.h.4.ln_1.bias torch.Size([768])\n",
      "transformer.h.4.attn.c_attn.weight torch.Size([768, 2304])\n",
      "transformer.h.4.attn.c_attn.bias torch.Size([2304])\n",
      "transformer.h.4.attn.c_proj.weight torch.Size([768, 768])\n",
      "transformer.h.4.attn.c_proj.bias torch.Size([768])\n",
      "transformer.h.4.ln_2.weight torch.Size([768])\n",
      "transformer.h.4.ln_2.bias torch.Size([768])\n",
      "transformer.h.4.mlp.c_fc.weight torch.Size([768, 3072])\n",
      "transformer.h.4.mlp.c_fc.bias torch.Size([3072])\n",
      "transformer.h.4.mlp.c_proj.weight torch.Size([3072, 768])\n",
      "transformer.h.4.mlp.c_proj.bias torch.Size([768])\n",
      "transformer.h.5.ln_1.weight torch.Size([768])\n",
      "transformer.h.5.ln_1.bias torch.Size([768])\n",
      "transformer.h.5.attn.c_attn.weight torch.Size([768, 2304])\n",
      "transformer.h.5.attn.c_attn.bias torch.Size([2304])\n",
      "transformer.h.5.attn.c_proj.weight torch.Size([768, 768])\n",
      "transformer.h.5.attn.c_proj.bias torch.Size([768])\n",
      "transformer.h.5.ln_2.weight torch.Size([768])\n",
      "transformer.h.5.ln_2.bias torch.Size([768])\n",
      "transformer.h.5.mlp.c_fc.weight torch.Size([768, 3072])\n",
      "transformer.h.5.mlp.c_fc.bias torch.Size([3072])\n",
      "transformer.h.5.mlp.c_proj.weight torch.Size([3072, 768])\n",
      "transformer.h.5.mlp.c_proj.bias torch.Size([768])\n",
      "transformer.h.6.ln_1.weight torch.Size([768])\n",
      "transformer.h.6.ln_1.bias torch.Size([768])\n",
      "transformer.h.6.attn.c_attn.weight torch.Size([768, 2304])\n",
      "transformer.h.6.attn.c_attn.bias torch.Size([2304])\n",
      "transformer.h.6.attn.c_proj.weight torch.Size([768, 768])\n",
      "transformer.h.6.attn.c_proj.bias torch.Size([768])\n",
      "transformer.h.6.ln_2.weight torch.Size([768])\n",
      "transformer.h.6.ln_2.bias torch.Size([768])\n",
      "transformer.h.6.mlp.c_fc.weight torch.Size([768, 3072])\n",
      "transformer.h.6.mlp.c_fc.bias torch.Size([3072])\n",
      "transformer.h.6.mlp.c_proj.weight torch.Size([3072, 768])\n",
      "transformer.h.6.mlp.c_proj.bias torch.Size([768])\n",
      "transformer.h.7.ln_1.weight torch.Size([768])\n",
      "transformer.h.7.ln_1.bias torch.Size([768])\n",
      "transformer.h.7.attn.c_attn.weight torch.Size([768, 2304])\n",
      "transformer.h.7.attn.c_attn.bias torch.Size([2304])\n",
      "transformer.h.7.attn.c_proj.weight torch.Size([768, 768])\n",
      "transformer.h.7.attn.c_proj.bias torch.Size([768])\n",
      "transformer.h.7.ln_2.weight torch.Size([768])\n",
      "transformer.h.7.ln_2.bias torch.Size([768])\n",
      "transformer.h.7.mlp.c_fc.weight torch.Size([768, 3072])\n",
      "transformer.h.7.mlp.c_fc.bias torch.Size([3072])\n",
      "transformer.h.7.mlp.c_proj.weight torch.Size([3072, 768])\n",
      "transformer.h.7.mlp.c_proj.bias torch.Size([768])\n",
      "transformer.h.8.ln_1.weight torch.Size([768])\n",
      "transformer.h.8.ln_1.bias torch.Size([768])\n",
      "transformer.h.8.attn.c_attn.weight torch.Size([768, 2304])\n",
      "transformer.h.8.attn.c_attn.bias torch.Size([2304])\n",
      "transformer.h.8.attn.c_proj.weight torch.Size([768, 768])\n",
      "transformer.h.8.attn.c_proj.bias torch.Size([768])\n",
      "transformer.h.8.ln_2.weight torch.Size([768])\n",
      "transformer.h.8.ln_2.bias torch.Size([768])\n",
      "transformer.h.8.mlp.c_fc.weight torch.Size([768, 3072])\n",
      "transformer.h.8.mlp.c_fc.bias torch.Size([3072])\n",
      "transformer.h.8.mlp.c_proj.weight torch.Size([3072, 768])\n",
      "transformer.h.8.mlp.c_proj.bias torch.Size([768])\n",
      "transformer.h.9.ln_1.weight torch.Size([768])\n",
      "transformer.h.9.ln_1.bias torch.Size([768])\n",
      "transformer.h.9.attn.c_attn.weight torch.Size([768, 2304])\n",
      "transformer.h.9.attn.c_attn.bias torch.Size([2304])\n",
      "transformer.h.9.attn.c_proj.weight torch.Size([768, 768])\n",
      "transformer.h.9.attn.c_proj.bias torch.Size([768])\n",
      "transformer.h.9.ln_2.weight torch.Size([768])\n",
      "transformer.h.9.ln_2.bias torch.Size([768])\n",
      "transformer.h.9.mlp.c_fc.weight torch.Size([768, 3072])\n",
      "transformer.h.9.mlp.c_fc.bias torch.Size([3072])\n",
      "transformer.h.9.mlp.c_proj.weight torch.Size([3072, 768])\n",
      "transformer.h.9.mlp.c_proj.bias torch.Size([768])\n",
      "transformer.h.10.ln_1.weight torch.Size([768])\n",
      "transformer.h.10.ln_1.bias torch.Size([768])\n",
      "transformer.h.10.attn.c_attn.weight torch.Size([768, 2304])\n",
      "transformer.h.10.attn.c_attn.bias torch.Size([2304])\n",
      "transformer.h.10.attn.c_proj.weight torch.Size([768, 768])\n",
      "transformer.h.10.attn.c_proj.bias torch.Size([768])\n",
      "transformer.h.10.ln_2.weight torch.Size([768])\n",
      "transformer.h.10.ln_2.bias torch.Size([768])\n",
      "transformer.h.10.mlp.c_fc.weight torch.Size([768, 3072])\n",
      "transformer.h.10.mlp.c_fc.bias torch.Size([3072])\n",
      "transformer.h.10.mlp.c_proj.weight torch.Size([3072, 768])\n",
      "transformer.h.10.mlp.c_proj.bias torch.Size([768])\n",
      "transformer.h.11.ln_1.weight torch.Size([768])\n",
      "transformer.h.11.ln_1.bias torch.Size([768])\n",
      "transformer.h.11.attn.c_attn.weight torch.Size([768, 2304])\n",
      "transformer.h.11.attn.c_attn.bias torch.Size([2304])\n",
      "transformer.h.11.attn.c_proj.weight torch.Size([768, 768])\n",
      "transformer.h.11.attn.c_proj.bias torch.Size([768])\n",
      "transformer.h.11.ln_2.weight torch.Size([768])\n",
      "transformer.h.11.ln_2.bias torch.Size([768])\n",
      "transformer.h.11.mlp.c_fc.weight torch.Size([768, 3072])\n",
      "transformer.h.11.mlp.c_fc.bias torch.Size([3072])\n",
      "transformer.h.11.mlp.c_proj.weight torch.Size([3072, 768])\n",
      "transformer.h.11.mlp.c_proj.bias torch.Size([768])\n",
      "transformer.ln_f.weight torch.Size([768])\n",
      "transformer.ln_f.bias torch.Size([768])\n",
      "lm_head.weight torch.Size([50257, 768])\n",
      "Total No. of Parameters: 163037184\n"
     ]
    }
   ],
   "source": [
    "model_hf = GPT2LMHeadModel.from_pretrained(\"gpt2\")\n",
    "sd_hf = model_hf.state_dict()\n",
    "\n",
    "total_num_params = 0\n",
    "for k,v in sd_hf.items():\n",
    "    print(k, v.shape)\n",
    "    total_num_params += v.numel()\n",
    "\n",
    "print(f\"Total No. of Parameters: {total_num_params}\")"
   ]
  },
  {
   "cell_type": "code",
   "execution_count": 4,
   "metadata": {},
   "outputs": [],
   "source": [
    "import matplotlib.pyplot as plt"
   ]
  },
  {
   "cell_type": "code",
   "execution_count": 5,
   "metadata": {},
   "outputs": [
    {
     "data": {
      "text/plain": [
       "<matplotlib.image.AxesImage at 0x147d22060>"
      ]
     },
     "execution_count": 5,
     "metadata": {},
     "output_type": "execute_result"
    },
    {
     "data": {
      "image/png": "[encoded data removed]",
      "text/plain": [
       "<Figure size 640x480 with 1 Axes>"
      ]
     },
     "metadata": {},
     "output_type": "display_data"
    }
   ],
   "source": [
    "%matplotlib inline\n",
    "plt.imshow(sd_hf[\"transformer.wpe.weight\"], cmap=\"gray\")"
   ]
  },
  {
   "cell_type": "code",
   "execution_count": 6,
   "metadata": {},
   "outputs": [
    {
     "data": {
      "text/plain": [
       "[<matplotlib.lines.Line2D at 0x147e2e780>]"
      ]
     },
     "execution_count": 6,
     "metadata": {},
     "output_type": "execute_result"
    },
    {
     "data": {
      "image/png": "[encoded data removed]",
      "text/plain": [
       "<Figure size 640x480 with 1 Axes>"
      ]
     },
     "metadata": {},
     "output_type": "display_data"
    }
   ],
   "source": [
    "plt.plot(sd_hf[\"transformer.wpe.weight\"][:,0])\n",
    "plt.plot(sd_hf[\"transformer.wpe.weight\"][:,150])\n",
    "plt.plot(sd_hf[\"transformer.wpe.weight\"][:,450])"
   ]
  },
  {
   "cell_type": "markdown",
   "metadata": {},
   "source": [
    "# Prepare DataLoader"
   ]
  },
  {
   "cell_type": "code",
   "execution_count": 7,
   "metadata": {},
   "outputs": [],
   "source": [
    "class DataLoaderLite:\n",
    "    def __init__(self, B, T, device=\"cpu\", split=\"train\"):\n",
    "        \"\"\"\n",
    "            B: Batch size\n",
    "            T: Block size\n",
    "        \"\"\"\n",
    "        self.B = B\n",
    "        self.T = T\n",
    "        self.device = device\n",
    "        data_folder = \"datasets/shakespeare\"\n",
    "        if split == \"train\":\n",
    "            filename = os.path.join(data_folder, \"train.bin\")\n",
    "        else:\n",
    "            filename = os.path.join(data_folder, \"val.bin\")\n",
    "        \n",
    "        with open(filename, \"r\") as f:\n",
    "            data = np.fromfile(f, dtype=np.uint16)\n",
    "        self.tokens = torch.tensor(data).long()\n",
    "        self.current_idx = 0\n",
    "    \n",
    "    def next_batch(self):\n",
    "        B, T, = self.B, self.T\n",
    "        \n",
    "        buf = self.tokens[self.current_idx: self.current_idx + (B*T) + 1]\n",
    "        x = buf[:-1].view(B, T)\n",
    "        y = buf[1:].view(B,T)\n",
    "\n",
    "        \n",
    "        self.current_idx += B*T\n",
    "        if self.current_idx + B*T + 1 >= len(self.tokens):\n",
    "            self.current_idx = 0\n",
    "        return x.to(self.device), y.to(self.device)"
   ]
  },
  {
   "cell_type": "code",
   "execution_count": 8,
   "metadata": {},
   "outputs": [],
   "source": [
    "import tiktoken\n",
    "enc = tiktoken.get_encoding(\"gpt2\")"
   ]
  },
  {
   "cell_type": "code",
   "execution_count": 9,
   "metadata": {},
   "outputs": [],
   "source": [
    "@dataclass\n",
    "class GPTConfig:\n",
    "    n_heads: int = 12\n",
    "    n_layers: int = 12\n",
    "    n_embed: int = 768\n",
    "    vocab_size: int = 50257 # differs from the original 50,257 for efficiency\n",
    "    block_size: int = 1024"
   ]
  },
  {
   "cell_type": "code",
   "execution_count": 10,
   "metadata": {},
   "outputs": [],
   "source": [
    "import math\n",
    "\n",
    "class MultiHeadSelfAttention(nn.Module):\n",
    "    def __init__(self, config: GPTConfig):\n",
    "        super().__init__()\n",
    "        self.config = config\n",
    "        assert config.n_embed % config.n_heads == 0, \"n_embed must be divisible by the number of heads\"\n",
    "        # self.n_embed = config.n_embed\n",
    "        self.n_heads = config.n_heads\n",
    "        # self.head_dim = self.n_embed // self.n_heads\n",
    "\n",
    "        self.c_attn = nn.Linear(config.n_embed, 3 * config.n_embed, bias = True) # ine one matrix multiplication, we get weights for key, value and query vectors\n",
    "        self.c_proj = nn.Linear(config.n_embed, config.n_embed, bias = True)\n",
    "\n",
    "        self.register_buffer(\"bias\", torch.tril(torch.ones((config.block_size,config.block_size))\n",
    "                                    .view(1,1,config.block_size, config.block_size)), persistent=True)\n",
    "    \n",
    "    def forward(self, x):\n",
    "        # x -> B, T, C\n",
    "        B, T, C = x.size()\n",
    "\n",
    "        # first lets get the query, key and value vectors\n",
    "        qkv = self.c_attn(x)\n",
    "        q, k, v = qkv.split(self.config.n_embed, dim=2) # each of size B, T, C\n",
    "\n",
    "        # now we want to organize these vectors for multi head attention (B, n_heads, T, head_dim)\n",
    "        q = q.view(B, T, self.n_heads, C//self.n_heads).transpose(1, 2) # (B, n_heads, T, head_dim)\n",
    "        k = k.view(B, T, self.n_heads, C//self.n_heads).transpose(1, 2) # (B, n_heads, T, head_dim)\n",
    "        v = v.view(B, T, self.n_heads, C//self.n_heads).transpose(1, 2) # (B, n_heads, T, head_dim)\n",
    "\n",
    "        # lets calculate the scaled attention matrix\n",
    "        attn = (q @ k.transpose(-2,-1)) * (1.0 / math.sqrt(k.size(-1))) # B, n_heads, T , T\n",
    "        attn = attn.masked_fill(self.bias[:,:,:T, :T] == 0, float(\"-inf\"))\n",
    "\n",
    "        # get attn probs\n",
    "        attn = F.softmax(attn, dim=-1)\n",
    "\n",
    "        y = attn @ v\n",
    "        y = y.transpose(1, 2).contiguous().view(B, T, C)\n",
    "\n",
    "        # output projection\n",
    "        y = self.c_proj(y)\n",
    "\n",
    "        return y"
   ]
  },
  {
   "cell_type": "code",
   "execution_count": 11,
   "metadata": {},
   "outputs": [],
   "source": [
    "class MLP(nn.Module):\n",
    "    def __init__(self, config: GPTConfig):\n",
    "        super().__init__()\n",
    "        self.c_fc = nn.Linear(config.n_embed, 4*config.n_embed, bias=True)\n",
    "        self.gelu = nn.GELU(approximate=\"tanh\")\n",
    "        self.c_proj = nn.Linear(4*config.n_embed, config.n_embed, bias=True)\n",
    "\n",
    "    def forward(self, x):\n",
    "        # x -> B, T, C\n",
    "        x = self.c_fc(x)\n",
    "        x = self.gelu(x)\n",
    "        x = self.c_proj(x)\n",
    "        return x\n",
    "        "
   ]
  },
  {
   "cell_type": "code",
   "execution_count": 12,
   "metadata": {},
   "outputs": [],
   "source": [
    "class Block(nn.Module):\n",
    "    def __init__(self, config: GPTConfig):\n",
    "        super().__init__()\n",
    "        self.ln_1 = nn.LayerNorm(config.n_embed)\n",
    "        self.attn = MultiHeadSelfAttention(config)\n",
    "        self.ln_2 = nn.LayerNorm(config.n_embed)\n",
    "        self.mlp = MLP(config)\n",
    "    \n",
    "    def forward(self, x):\n",
    "        # x -> (B, T, C)\n",
    "        x = x + self.attn(self.ln_1(x))\n",
    "        x = x + self.mlp(self.ln_2(x))\n",
    "        return x\n",
    "    "
   ]
  },
  {
   "cell_type": "code",
   "execution_count": 67,
   "metadata": {},
   "outputs": [],
   "source": [
    "class GPT(nn.Module):\n",
    "    def __init__(self, config: GPTConfig):\n",
    "        super().__init__()\n",
    "        self.config = config\n",
    "        # Both these weights are going to be tied at some point\n",
    "        self.transformer = nn.ModuleDict(dict(\n",
    "            wte = nn.Embedding(config.vocab_size, config.n_embed),\n",
    "            wpe = nn.Embedding(config.block_size, config.n_embed),\n",
    "            h = nn.ModuleList([Block(config) for _ in range(config.n_layers)]),\n",
    "            ln_f = nn.LayerNorm(config.n_embed)\n",
    "        ))\n",
    "        self.lm_head = nn.Linear(config.n_embed, config.vocab_size, bias=False)\n",
    "        self.transformer.wte.weight = self.lm_head.weight\n",
    "    \n",
    "    def forward(self, idx, targets=None):\n",
    "        # x -> B, T\n",
    "        B, T = idx.size()\n",
    "        assert T <= self.config.block_size, f\"Cannot forward, model block size is exhausted: {T} > {self.config.block_size}\"\n",
    "        pos = torch.arange(0, T, dtype=torch.long, device=idx.device)\n",
    "        pos_emb = self.transformer.wpe(pos) # T, C\n",
    "        tok_emb = self.transformer.wte(idx) # B, T, C\n",
    "\n",
    "        x = tok_emb + pos_emb # the batch dimension for the pos_emb is broadcasted\n",
    "        for block in self.transformer.h:\n",
    "            x = block(x)\n",
    "        x = self.transformer.ln_f(x)\n",
    "        x = self.lm_head(x) # B, T, vocab_size\n",
    "\n",
    "        if targets is not None:\n",
    "            loss = F.cross_entropy(x.view(-1, x.size(-1)), targets.view(-1))\n",
    "            return x, loss\n",
    "\n",
    "        return x\n",
    "    \n",
    "    @classmethod\n",
    "    def from_pretrained(cls, model_type: str):\n",
    "        \"\"\" Loads the pretrained model using weights from huggingface \"\"\"\n",
    "        assert model_type in {\"gpt2\", \"gpt2-medium\", \"gpt2-large\", \"gpt2-xl\"}, f\"Invalid model type: {model_type}\"\n",
    "        from transformers import GPT2LMHeadModel\n",
    "\n",
    "        config_args = {\n",
    "            \"gpt2\" : dict(n_layers=12, n_heads=12, n_embed=768, vocab_size=50257, block_size=1024),\n",
    "            \"gpt2-medium\" : dict(n_layers=24, n_heads=16, n_embed=1024, vocab_size=50257, block_size=1024),\n",
    "            \"gpt2-large\" : dict(n_layers=36, n_heads=16, n_embed=1280, vocab_size=50257, block_size=1024),\n",
    "            \"gpt2-xl\" : dict(n_layers=48, n_heads=16, n_embed=1600, vocab_size=50257, block_size=1024)\n",
    "        }\n",
    "\n",
    "        print(f\"Loading model: {model_type}\")\n",
    "\n",
    "        config = GPTConfig(**config_args[model_type])\n",
    "        model = cls(config)\n",
    "        sd = model.state_dict()\n",
    "        sd_keys = list(sd.keys())\n",
    "        sd_keys = [k for k in sd_keys if not k.endswith(\".attn.bias\")] # discard the attention bias keys\n",
    "\n",
    "        model_hf = GPT2LMHeadModel.from_pretrained(model_type)\n",
    "        sd_hf = model_hf.state_dict()\n",
    "\n",
    "        sd_hf_keys = list(sd_hf.keys())\n",
    "        sd_hf_keys = [k for k in sd_hf_keys if not k.endswith(\".attn.masked_bias\")]\n",
    "        sd_hf_keys = [k for k in sd_hf_keys if not k.endswith(\".attn.bias\")]\n",
    "        weights_to_transpose = [\"attn.c_attn.weight\", \"attn.c_proj.weight\", \"mlp.c_fc.weight\", \"mlp.c_proj.weight\"]\n",
    "\n",
    "        assert len(sd_keys) == len(sd_hf_keys), f\"Number of keys do not match: {len(sd_keys)} != {len(sd_hf_keys)}\"\n",
    "        for k in sd_hf_keys:\n",
    "            if any(k.endswith(w) for w in weights_to_transpose):\n",
    "                # these are Conv1D weights that need to be transposed to align with our model since we use Linear layers\n",
    "                assert sd_hf[k].shape[::-1] == sd[k].shape\n",
    "                with torch.no_grad():\n",
    "                    sd[k].copy_(sd_hf[k].T)\n",
    "            else:\n",
    "                assert sd[k].shape == sd_hf[k].shape\n",
    "                with torch.no_grad():\n",
    "                    sd[k].copy_(sd_hf[k])\n",
    "\n",
    "        return model\n"
   ]
  },
  {
   "cell_type": "code",
   "execution_count": 68,
   "metadata": {},
   "outputs": [
    {
     "name": "stdout",
     "output_type": "stream",
     "text": [
      "Using device: mps\n"
     ]
    }
   ],
   "source": [
    "def get_best_available_device():\n",
    "    if torch.cuda.is_available():\n",
    "        return \"cuda\"\n",
    "    elif torch.backends.mps.is_available():\n",
    "        return \"mps\"\n",
    "    else:\n",
    "        return \"cpu\"\n",
    "\n",
    "# Use the function to get the best available device\n",
    "device = get_best_available_device()\n",
    "print(f\"Using device: {device}\")"
   ]
  },
  {
   "cell_type": "code",
   "execution_count": null,
   "metadata": {},
   "outputs": [
    {
     "ename": "",
     "evalue": "",
     "output_type": "error",
     "traceback": [
      "\u001b[1;31mFailed to start the Kernel 'transformer-proj (Python 3.12.6)'. \n",
      "\u001b[1;31mView Jupyter <a href='command:jupyter.viewOutput'>log</a> for further details. Interrupted system call"
     ]
    }
   ],
   "source": [
    "with open(\"datasets/shakespeare/input.txt\", \"r\") as f:\n",
    "    text = f.read()\n",
    "\n",
    "text = text[:10000]\n",
    "tokens = enc.encode(text)\n",
    "\n",
    "B, T = 4, 32\n",
    "dataloader = DataLoaderLite(B, T, device=device)\n",
    "x, y = dataloader.next_batch()\n",
    "config = GPTConfig()\n",
    "model = GPT(config)\n",
    "optimizer = torch.optim.AdamW(model.parameters(), lr=3e-4)\n",
    "model = model.to(device)"
   ]
  },
  {
   "cell_type": "code",
   "execution_count": 70,
   "metadata": {},
   "outputs": [
    {
     "name": "stdout",
     "output_type": "stream",
     "text": [
      "Total steps per epoch: 147\n",
      "Total validation steps: 17\n"
     ]
    }
   ],
   "source": [
    "steps_per_epoch = len(dataloader.tokens)// (B*T)\n",
    "num_epochs = 5\n",
    "val_steps = len(val_dataloader.tokens) // (B*T)\n",
    "\n",
    "print(f\"Total steps per epoch: {steps_per_epoch}\")\n",
    "print(f\"Total validation steps: {val_steps}\")"
   ]
  },
  {
   "cell_type": "code",
   "execution_count": null,
   "metadata": {},
   "outputs": [
    {
     "ename": "",
     "evalue": "",
     "output_type": "error",
     "traceback": [
      "\u001b[1;31mFailed to start the Kernel 'transformer-proj (Python 3.12.6)'. \n",
      "\u001b[1;31mView Jupyter <a href='command:jupyter.viewOutput'>log</a> for further details. Interrupted system call"
     ]
    }
   ],
   "source": [
    "losses = []"
   ]
  },
  {
   "cell_type": "code",
   "execution_count": 72,
   "metadata": {},
   "outputs": [],
   "source": [
    "def get_lr(epoch):\n",
    "    lr = 3e-4\n",
    "    if epoch < (num_epochs//2)+1:\n",
    "        return lr\n",
    "    else:\n",
    "        return lr * 0.01"
   ]
  },
  {
   "cell_type": "code",
   "execution_count": null,
   "metadata": {},
   "outputs": [
    {
     "ename": "",
     "evalue": "",
     "output_type": "error",
     "traceback": [
      "\u001b[1;31mFailed to start the Kernel 'transformer-proj (Python 3.12.6)'. \n",
      "\u001b[1;31mView Jupyter <a href='command:jupyter.viewOutput'>log</a> for further details. Interrupted system call"
     ]
    }
   ],
   "source": [
    "inp, targets = dataloader.next_batch()"
   ]
  },
  {
   "cell_type": "code",
   "execution_count": null,
   "metadata": {},
   "outputs": [
    {
     "ename": "",
     "evalue": "",
     "output_type": "error",
     "traceback": [
      "\u001b[1;31mFailed to start the Kernel 'transformer-proj (Python 3.12.6)'. \n",
      "\u001b[1;31mView Jupyter <a href='command:jupyter.viewOutput'>log</a> for further details. Interrupted system call"
     ]
    }
   ],
   "source": [
    "model.train()\n",
    "for step in range(50):\n",
    "    # inp, targets = dataloader.next_batch()\n",
    "    logits = model(inp) # B, T, vocab_size\n",
    "    probs = F.softmax(logits, dim=-1)  # B, T, vocab_size\n",
    "\n",
    "    # lets calculate the negative log likelihood of this (it should be around 10.82)\n",
    "    flattened_probs = probs.view(-1, probs.shape[-1]) # B*T, vocab_size\n",
    "    flattened_targets = targets.view(-1).unsqueeze(1) # B*T, 1\n",
    "\n",
    "    predicted_probs = flattened_probs.gather(dim=1, index=flattened_targets).squeeze(1) # B*T \n",
    "    # what we have to do is - (log(p_0) + log(p_1) + ....)\n",
    "    log_predicted_probs = predicted_probs.log()\n",
    "    nll = -log_predicted_probs.mean()\n",
    "    print(f\"Step: {step}, NLL: {nll.item()}\")\n",
    "    losses.append(nll.item())\n",
    "    optimizer.zero_grad()\n",
    "    nll.backward()\n",
    "    optimizer.step()\n",
    "    "
   ]
  },
  {
   "cell_type": "code",
   "execution_count": 115,
   "metadata": {},
   "outputs": [
    {
     "name": "stdout",
     "output_type": "stream",
     "text": [
      "Validation Loss: 4.734657904681037\n"
     ]
    }
   ],
   "source": []
  },
  {
   "cell_type": "code",
   "execution_count": 119,
   "metadata": {},
   "outputs": [],
   "source": [
    "losses = np.array(losses).reshape(-1, steps)"
   ]
  },
  {
   "cell_type": "code",
   "execution_count": 120,
   "metadata": {},
   "outputs": [
    {
     "data": {
      "text/plain": [
       "array([6.08190531, 4.88053432, 4.37424006, 3.93963606, 3.72649662,\n",
       "       3.60441066, 3.70039216, 3.07984015, 2.84090995])"
      ]
     },
     "execution_count": 120,
     "metadata": {},
     "output_type": "execute_result"
    }
   ],
   "source": [
    "# average the losses across steps\n",
    "avg_losses = losses.mean(axis=1)\n",
    "avg_losses"
   ]
  },
  {
   "cell_type": "code",
   "execution_count": 118,
   "metadata": {},
   "outputs": [
    {
     "data": {
      "text/plain": [
       "9.0"
      ]
     },
     "execution_count": 118,
     "metadata": {},
     "output_type": "execute_result"
    }
   ],
   "source": [
    "len(losses)/147"
   ]
  },
  {
   "cell_type": "code",
   "execution_count": 121,
   "metadata": {},
   "outputs": [
    {
     "data": {
      "text/plain": [
       "[<matplotlib.lines.Line2D at 0x401c009e0>]"
      ]
     },
     "execution_count": 121,
     "metadata": {},
     "output_type": "execute_result"
    },
    {
     "data": {
      "image/png": "[encoded data removed]",
      "text/plain": [
       "<Figure size 640x480 with 1 Axes>"
      ]
     },
     "metadata": {},
     "output_type": "display_data"
    }
   ],
   "source": [
    "# import matplotlib.pyplot as plt\n",
    "# # plot the losses\n",
    "plt.plot(avg_losses)"
   ]
  },
  {
   "cell_type": "code",
   "execution_count": 125,
   "metadata": {},
   "outputs": [],
   "source": [
    "import tiktoken\n",
    "\n",
    "num_sequences = 5\n",
    "max_length = 80\n",
    "\n",
    "# prefix tokens\n",
    "enc = tiktoken.get_encoding(\"gpt2\")\n",
    "tokens = enc.encode(\"Hello, I'm a language model,\")\n",
    "tokens = torch.tensor(tokens, dtype=torch.long)\n",
    "tokens = tokens.unsqueeze(0).repeat(num_sequences, 1).to(device)\n",
    "x = tokens.to(device)"
   ]
  },
  {
   "cell_type": "code",
   "execution_count": 126,
   "metadata": {},
   "outputs": [],
   "source": [
    "torch.manual_seed(42)\n",
    "# torch.cuda.manual_seed(42)\n",
    "\n",
    "while x.size(1) < max_length:\n",
    "    with torch.no_grad():\n",
    "        logits = model(x[:,-T:])\n",
    "        probs = F.softmax(logits[:, -1, :], dim=-1)\n",
    "        topk_probs, topk_indices = torch.topk(probs, 50, dim=-1)\n",
    "        ix = torch.multinomial(topk_probs, num_samples=1)\n",
    "        xcol = topk_indices.gather(dim=-1, index=ix)\n",
    "        x = torch.cat((x, xcol), dim=1)"
   ]
  },
  {
   "cell_type": "code",
   "execution_count": 127,
   "metadata": {},
   "outputs": [
    {
     "name": "stdout",
     "output_type": "stream",
     "text": [
      "> Hello, I'm a language model, but not\n",
      "will bear me to my lord.\n",
      "\n",
      "GREMIO:\n",
      "A mile!\n",
      "\n",
      "DUKE VINCENTUS:\n",
      "I know you, sir: and to know my cousin;\n",
      "He's sentenced, from the good friend nor wife to do\n",
      ": but my time is here is come to do\n",
      "I am his most\n",
      "> Hello, I'm a language model,\n",
      "In that she not?\n",
      "\n",
      "LUCIO:\n",
      "This is his wife and my head hath been now\n",
      "The law for a wife is something in thy death;\n",
      "When, then we have deserved, with these are\n",
      "And not strange more.\n",
      "\n",
      "BENVOLIO:\n",
      "You are not all at the people.\n",
      "\n",
      "First Senator\n",
      "> Hello, I'm a language model,\n",
      "And see, and to keep it instantly:\n",
      "I'll make you tell him all too late:\n",
      "I am your life so; what know\n",
      "And we'll to be some merry! why, he had he not\n",
      "That cannot do know how that.\n",
      "\n",
      "First Citizen:\n",
      "Ay, here's a friar. What, he shall bear\n",
      "> Hello, I'm a language model,\n",
      "Or else is most noble and death.\n",
      "\n",
      "LUCIO:\n",
      "Here, madam, I may not live.\n",
      "\n",
      "LUCIO:\n",
      "Hounds out I may not lose the devil make.\n",
      "\n",
      "ABISABELLA:\n",
      "No more with her love but to't the people's\n",
      "And tell you.\n",
      "\n",
      "D\n",
      "> Hello, I'm a language model,\n",
      "Nor the last when afoot and by my life\n",
      "So long as the ears: and the devil\n",
      "Of whom it shall find out of life.\n",
      "\n",
      "PETER:\n",
      "I shall I desire you.\n",
      "\n",
      "HORTENSIO:\n",
      "I am the good Camillo, to put it as it is.\n",
      "\n",
      "POMPEY:\n"
     ]
    }
   ],
   "source": [
    "for i in range(num_sequences):\n",
    "    tokens = x[i].tolist()\n",
    "    decoded = enc.decode(tokens)\n",
    "    print(f\"> {decoded}\")"
   ]
  },
  {
   "cell_type": "code",
   "execution_count": 72,
   "metadata": {},
   "outputs": [
    {
     "ename": "NameError",
     "evalue": "name 'T' is not defined",
     "output_type": "error",
     "traceback": [
      "\u001b[0;31m---------------------------------------------------------------------------\u001b[0m",
      "\u001b[0;31mNameError\u001b[0m                                 Traceback (most recent call last)",
      "Cell \u001b[0;32mIn[72], line 14\u001b[0m\n\u001b[1;32m     12\u001b[0m x \u001b[38;5;241m=\u001b[39m tokenized_sentence\n\u001b[1;32m     13\u001b[0m \u001b[38;5;28;01mfor\u001b[39;00m _ \u001b[38;5;129;01min\u001b[39;00m \u001b[38;5;28mrange\u001b[39m(max_length):\n\u001b[0;32m---> 14\u001b[0m     inp \u001b[38;5;241m=\u001b[39m x[:,\u001b[38;5;241m-\u001b[39m\u001b[43mT\u001b[49m:]\n\u001b[1;32m     15\u001b[0m     logits \u001b[38;5;241m=\u001b[39m model_hf(inp) \u001b[38;5;66;03m# B, 1, vocab_size\u001b[39;00m\n\u001b[1;32m     16\u001b[0m     logits \u001b[38;5;241m=\u001b[39m logits[:, \u001b[38;5;241m-\u001b[39m\u001b[38;5;241m1\u001b[39m, :] \u001b[38;5;66;03m# B, vocab_size\u001b[39;00m\n",
      "\u001b[0;31mNameError\u001b[0m: name 'T' is not defined"
     ]
    }
   ],
   "source": [
    "model.eval()\n",
    "torch.manual_seed(42)\n",
    "\n",
    "example_sentence = \"Hello, I'm a language model,\"\n",
    "tokenized_sentence = enc.encode(example_sentence)\n",
    "tokenized_sentence = torch.tensor(tokenized_sentence).view(1, -1).to(device)\n",
    "\n",
    "# lets start sampling using the model\n",
    "# since we are using a bigram model, we only want to pick the last token\n",
    "\n",
    "max_length = 50\n",
    "x = tokenized_sentence\n",
    "for _ in range(max_length):\n",
    "    inp = x[:,-max_length:]\n",
    "    logits = model_hf(inp) # B, 1, vocab_size\n",
    "    logits = logits[:, -1, :] # B, vocab_size\n",
    "\n",
    "    # take the top k probs\n",
    "    probs = F.softmax(logits, dim=-1)\n",
    "    topk_probs, topk_indices = torch.topk(probs, k=50, dim=-1) # B, 50\n",
    "    ix = torch.multinomial(topk_probs, 1) # 1\n",
    "    xcol = torch.gather(topk_indices, -1, ix)\n",
    "    \n",
    "    # concatenate this with x. Now x is of shape 1, T. I want to concatenated something of shape 1,1\n",
    "    x = torch.cat((x, xcol), dim=-1)"
   ]
  },
  {
   "cell_type": "code",
   "execution_count": 80,
   "metadata": {},
   "outputs": [
    {
     "name": "stdout",
     "output_type": "stream",
     "text": [
      "Hello, I'm a language model,\\ arsen GR whippinggm celebrationOAD=~=~DATA talked Martin USS PlayStation Ally ledgeriuses algorithm spotlight Wasteland Premiere Dawkinscaptgrading scoff Chocoboeasy specific Popabcatz jour duplicationabc Maxwellsighted Pop Maxwell parasite Branatz frantically cocktailsatz AlonsoORPG Maxwelllessness consHot Calcul\n"
     ]
    }
   ],
   "source": [
    "print(enc.decode(x.squeeze().tolist()))"
   ]
  },
  {
   "cell_type": "code",
   "execution_count": null,
   "metadata": {},
   "outputs": [],
   "source": [
    "model = GPT2LMHeadModel.from_pretrained(\"gpt2\")"
   ]
  }
 ],
 "metadata": {
  "kernelspec": {
   "display_name": "cs224n-cpu",
   "language": "python",
   "name": "python3"
  },
  "language_info": {
   "codemirror_mode": {
    "name": "ipython",
    "version": 3
   },
   "file_extension": ".py",
   "mimetype": "text/x-python",
   "name": "python",
   "nbconvert_exporter": "python",
   "pygments_lexer": "ipython3",
   "version": "3.12.6"
  }
 },
 "nbformat": 4,
 "nbformat_minor": 2
}
